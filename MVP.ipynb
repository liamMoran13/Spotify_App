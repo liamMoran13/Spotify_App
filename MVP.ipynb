{
 "cells": [
  {
   "cell_type": "code",
   "execution_count": 1,
   "id": "35ffb6fd",
   "metadata": {},
   "outputs": [],
   "source": [
    "import pandas as pd\n",
    "import numpy as np"
   ]
  },
  {
   "cell_type": "code",
   "execution_count": 2,
   "id": "84639148",
   "metadata": {},
   "outputs": [],
   "source": [
    "df = pd.read_csv('df_MVP.csv')"
   ]
  },
  {
   "cell_type": "code",
   "execution_count": 6,
   "id": "4c380407",
   "metadata": {},
   "outputs": [
    {
     "data": {
      "text/html": [
       "<div>\n",
       "<style scoped>\n",
       "    .dataframe tbody tr th:only-of-type {\n",
       "        vertical-align: middle;\n",
       "    }\n",
       "\n",
       "    .dataframe tbody tr th {\n",
       "        vertical-align: top;\n",
       "    }\n",
       "\n",
       "    .dataframe thead th {\n",
       "        text-align: right;\n",
       "    }\n",
       "</style>\n",
       "<table border=\"1\" class=\"dataframe\">\n",
       "  <thead>\n",
       "    <tr style=\"text-align: right;\">\n",
       "      <th></th>\n",
       "      <th>Unnamed: 0</th>\n",
       "      <th>Artist</th>\n",
       "      <th>Track</th>\n",
       "      <th>Popularity</th>\n",
       "      <th>Track_Number</th>\n",
       "      <th>Album_Name</th>\n",
       "      <th>Total_Tracks</th>\n",
       "      <th>Release_Date</th>\n",
       "      <th>Year_Released</th>\n",
       "    </tr>\n",
       "  </thead>\n",
       "  <tbody>\n",
       "    <tr>\n",
       "      <th>0</th>\n",
       "      <td>0</td>\n",
       "      <td>Yot Club</td>\n",
       "      <td>YKWIM?</td>\n",
       "      <td>87</td>\n",
       "      <td>3</td>\n",
       "      <td>Bipolar</td>\n",
       "      <td>6</td>\n",
       "      <td>2019-05-31</td>\n",
       "      <td>2019</td>\n",
       "    </tr>\n",
       "    <tr>\n",
       "      <th>1</th>\n",
       "      <td>1</td>\n",
       "      <td>Doja Cat</td>\n",
       "      <td>Streets</td>\n",
       "      <td>87</td>\n",
       "      <td>9</td>\n",
       "      <td>Hot Pink</td>\n",
       "      <td>12</td>\n",
       "      <td>2019-11-07</td>\n",
       "      <td>2019</td>\n",
       "    </tr>\n",
       "    <tr>\n",
       "      <th>2</th>\n",
       "      <td>2</td>\n",
       "      <td>Labrinth</td>\n",
       "      <td>Formula</td>\n",
       "      <td>89</td>\n",
       "      <td>2</td>\n",
       "      <td>Euphoria (Original Score from the HBO Series)</td>\n",
       "      <td>26</td>\n",
       "      <td>2019-10-04</td>\n",
       "      <td>2019</td>\n",
       "    </tr>\n",
       "    <tr>\n",
       "      <th>3</th>\n",
       "      <td>3</td>\n",
       "      <td>Labrinth</td>\n",
       "      <td>All For Us - from the HBO Original Series Euph...</td>\n",
       "      <td>87</td>\n",
       "      <td>1</td>\n",
       "      <td>All For Us (from the HBO Original Series Eupho...</td>\n",
       "      <td>1</td>\n",
       "      <td>2019-08-04</td>\n",
       "      <td>2019</td>\n",
       "    </tr>\n",
       "    <tr>\n",
       "      <th>4</th>\n",
       "      <td>4</td>\n",
       "      <td>Harry Styles</td>\n",
       "      <td>Watermelon Sugar</td>\n",
       "      <td>90</td>\n",
       "      <td>2</td>\n",
       "      <td>Fine Line</td>\n",
       "      <td>12</td>\n",
       "      <td>2019-12-13</td>\n",
       "      <td>2019</td>\n",
       "    </tr>\n",
       "  </tbody>\n",
       "</table>\n",
       "</div>"
      ],
      "text/plain": [
       "   Unnamed: 0        Artist  \\\n",
       "0           0      Yot Club   \n",
       "1           1      Doja Cat   \n",
       "2           2      Labrinth   \n",
       "3           3      Labrinth   \n",
       "4           4  Harry Styles   \n",
       "\n",
       "                                               Track  Popularity  \\\n",
       "0                                             YKWIM?          87   \n",
       "1                                            Streets          87   \n",
       "2                                            Formula          89   \n",
       "3  All For Us - from the HBO Original Series Euph...          87   \n",
       "4                                   Watermelon Sugar          90   \n",
       "\n",
       "   Track_Number                                         Album_Name  \\\n",
       "0             3                                            Bipolar   \n",
       "1             9                                           Hot Pink   \n",
       "2             2      Euphoria (Original Score from the HBO Series)   \n",
       "3             1  All For Us (from the HBO Original Series Eupho...   \n",
       "4             2                                          Fine Line   \n",
       "\n",
       "   Total_Tracks Release_Date  Year_Released  \n",
       "0             6   2019-05-31           2019  \n",
       "1            12   2019-11-07           2019  \n",
       "2            26   2019-10-04           2019  \n",
       "3             1   2019-08-04           2019  \n",
       "4            12   2019-12-13           2019  "
      ]
     },
     "execution_count": 6,
     "metadata": {},
     "output_type": "execute_result"
    }
   ],
   "source": [
    "df.head()"
   ]
  },
  {
   "cell_type": "code",
   "execution_count": 5,
   "id": "9d404b80",
   "metadata": {},
   "outputs": [],
   "source": [
    "df['Year_Released'] = pd.to_datetime(df.Release_Date).dt.year"
   ]
  },
  {
   "cell_type": "code",
   "execution_count": 8,
   "id": "ecf8fb69",
   "metadata": {},
   "outputs": [],
   "source": [
    "df['Month_Released'] = pd.to_datetime(df.Release_Date).dt.month"
   ]
  },
  {
   "cell_type": "code",
   "execution_count": 10,
   "id": "434774f3",
   "metadata": {},
   "outputs": [],
   "source": [
    "cleaned_data = df[['Track_Number', 'Total_Tracks', 'Year_Released','Month_Released','Popularity']]"
   ]
  },
  {
   "cell_type": "code",
   "execution_count": 11,
   "id": "213a69de",
   "metadata": {},
   "outputs": [],
   "source": [
    "cleaned_data.to_csv('cleaned_data.csv')"
   ]
  },
  {
   "cell_type": "code",
   "execution_count": 12,
   "id": "036ce62a",
   "metadata": {},
   "outputs": [
    {
     "data": {
      "text/html": [
       "<div>\n",
       "<style scoped>\n",
       "    .dataframe tbody tr th:only-of-type {\n",
       "        vertical-align: middle;\n",
       "    }\n",
       "\n",
       "    .dataframe tbody tr th {\n",
       "        vertical-align: top;\n",
       "    }\n",
       "\n",
       "    .dataframe thead th {\n",
       "        text-align: right;\n",
       "    }\n",
       "</style>\n",
       "<table border=\"1\" class=\"dataframe\">\n",
       "  <thead>\n",
       "    <tr style=\"text-align: right;\">\n",
       "      <th></th>\n",
       "      <th>Track_Number</th>\n",
       "      <th>Total_Tracks</th>\n",
       "      <th>Year_Released</th>\n",
       "      <th>Month_Released</th>\n",
       "      <th>Popularity</th>\n",
       "    </tr>\n",
       "  </thead>\n",
       "  <tbody>\n",
       "    <tr>\n",
       "      <th>0</th>\n",
       "      <td>3</td>\n",
       "      <td>6</td>\n",
       "      <td>2019</td>\n",
       "      <td>5</td>\n",
       "      <td>87</td>\n",
       "    </tr>\n",
       "    <tr>\n",
       "      <th>1</th>\n",
       "      <td>9</td>\n",
       "      <td>12</td>\n",
       "      <td>2019</td>\n",
       "      <td>11</td>\n",
       "      <td>87</td>\n",
       "    </tr>\n",
       "    <tr>\n",
       "      <th>2</th>\n",
       "      <td>2</td>\n",
       "      <td>26</td>\n",
       "      <td>2019</td>\n",
       "      <td>10</td>\n",
       "      <td>89</td>\n",
       "    </tr>\n",
       "    <tr>\n",
       "      <th>3</th>\n",
       "      <td>1</td>\n",
       "      <td>1</td>\n",
       "      <td>2019</td>\n",
       "      <td>8</td>\n",
       "      <td>87</td>\n",
       "    </tr>\n",
       "    <tr>\n",
       "      <th>4</th>\n",
       "      <td>2</td>\n",
       "      <td>12</td>\n",
       "      <td>2019</td>\n",
       "      <td>12</td>\n",
       "      <td>90</td>\n",
       "    </tr>\n",
       "  </tbody>\n",
       "</table>\n",
       "</div>"
      ],
      "text/plain": [
       "   Track_Number  Total_Tracks  Year_Released  Month_Released  Popularity\n",
       "0             3             6           2019               5          87\n",
       "1             9            12           2019              11          87\n",
       "2             2            26           2019              10          89\n",
       "3             1             1           2019               8          87\n",
       "4             2            12           2019              12          90"
      ]
     },
     "execution_count": 12,
     "metadata": {},
     "output_type": "execute_result"
    }
   ],
   "source": [
    "cleaned_data.head()"
   ]
  },
  {
   "cell_type": "code",
   "execution_count": null,
   "id": "6e8cfc7b",
   "metadata": {},
   "outputs": [],
   "source": []
  }
 ],
 "metadata": {
  "kernelspec": {
   "display_name": "Python 3",
   "language": "python",
   "name": "python3"
  },
  "language_info": {
   "codemirror_mode": {
    "name": "ipython",
    "version": 3
   },
   "file_extension": ".py",
   "mimetype": "text/x-python",
   "name": "python",
   "nbconvert_exporter": "python",
   "pygments_lexer": "ipython3",
   "version": "3.8.8"
  }
 },
 "nbformat": 4,
 "nbformat_minor": 5
}
