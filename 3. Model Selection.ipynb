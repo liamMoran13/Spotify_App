{
 "cells": [
  {
   "cell_type": "code",
   "execution_count": 1,
   "id": "e4c5a34a",
   "metadata": {},
   "outputs": [],
   "source": [
    "import pandas as pd\n",
    "from sklearn.preprocessing import PolynomialFeatures\n",
    "from sklearn.model_selection import cross_val_score\n",
    "from sklearn.linear_model import LinearRegression\n",
    "from sklearn.preprocessing import StandardScaler\n",
    "from sklearn.model_selection import train_test_split\n",
    "from sklearn.metrics import mean_squared_error\n",
    "from sklearn.linear_model import Lasso\n",
    "import math\n",
    "import numpy as np\n",
    "from sklearn.linear_model import LassoCV\n",
    "from sklearn.linear_model import RidgeCV"
   ]
  },
  {
   "cell_type": "code",
   "execution_count": 2,
   "id": "16b8d644",
   "metadata": {},
   "outputs": [],
   "source": [
    "from sklearn.metrics import mean_squared_error\n",
    "import pickle"
   ]
  },
  {
   "cell_type": "code",
   "execution_count": 3,
   "id": "1c2b3a59",
   "metadata": {},
   "outputs": [],
   "source": [
    "df = pd.read_csv('cleaned_data.csv')"
   ]
  },
  {
   "cell_type": "code",
   "execution_count": 4,
   "id": "b9b20351",
   "metadata": {},
   "outputs": [],
   "source": [
    "target = df['Popularity']\n",
    "features = df.drop('Popularity',axis=1)"
   ]
  },
  {
   "cell_type": "code",
   "execution_count": 5,
   "id": "fc91b2e8",
   "metadata": {},
   "outputs": [],
   "source": [
    "X, X_test, y, y_test = train_test_split(features, target, test_size=0.25, random_state=13)"
   ]
  },
  {
   "cell_type": "code",
   "execution_count": 6,
   "id": "59912865",
   "metadata": {},
   "outputs": [],
   "source": [
    "X_train, X_val, y_train, y_val = train_test_split(X,y,test_size=.25,random_state=13)"
   ]
  },
  {
   "cell_type": "code",
   "execution_count": 7,
   "id": "a64447d2",
   "metadata": {},
   "outputs": [],
   "source": [
    "scaler = StandardScaler()\n",
    "scaler.fit(X_train)\n",
    "X_train = scaler.transform(X_train)\n",
    "X_val = scaler.transform(X_val)"
   ]
  },
  {
   "cell_type": "code",
   "execution_count": 8,
   "id": "63d72913",
   "metadata": {},
   "outputs": [
    {
     "data": {
      "text/plain": [
       "LinearRegression()"
      ]
     },
     "execution_count": 8,
     "metadata": {},
     "output_type": "execute_result"
    }
   ],
   "source": [
    "lr = LinearRegression()\n",
    "lr.fit(X_train,y_train)"
   ]
  },
  {
   "cell_type": "code",
   "execution_count": 9,
   "id": "b5556f4b",
   "metadata": {},
   "outputs": [
    {
     "data": {
      "text/plain": [
       "0.31750496102056874"
      ]
     },
     "execution_count": 9,
     "metadata": {},
     "output_type": "execute_result"
    }
   ],
   "source": [
    "np.mean(cross_val_score(lr,X_train,y_train,cv=5))"
   ]
  },
  {
   "cell_type": "code",
   "execution_count": 10,
   "id": "53ca5a16",
   "metadata": {},
   "outputs": [
    {
     "data": {
      "text/plain": [
       "0.31750538971971054"
      ]
     },
     "execution_count": 10,
     "metadata": {},
     "output_type": "execute_result"
    }
   ],
   "source": [
    "ridge = RidgeCV()\n",
    "ridge.fit(X_train,y_train)\n",
    "np.mean(cross_val_score(ridge,X_train,y_train,cv=5))"
   ]
  },
  {
   "cell_type": "code",
   "execution_count": 11,
   "id": "f95353fb",
   "metadata": {},
   "outputs": [
    {
     "data": {
      "text/plain": [
       "0.317505393089371"
      ]
     },
     "execution_count": 11,
     "metadata": {},
     "output_type": "execute_result"
    }
   ],
   "source": [
    "lasso = LassoCV()\n",
    "lasso.fit(X_train,y_train)\n",
    "np.mean(cross_val_score(lasso,X_train,y_train,cv=5))"
   ]
  },
  {
   "cell_type": "code",
   "execution_count": 12,
   "id": "1ba3c8e1",
   "metadata": {},
   "outputs": [],
   "source": [
    "poly = PolynomialFeatures(degree=2)\n",
    "X_train_poly = poly.fit_transform(X_train)"
   ]
  },
  {
   "cell_type": "code",
   "execution_count": 13,
   "id": "0f591bdc",
   "metadata": {},
   "outputs": [
    {
     "data": {
      "text/plain": [
       "0.4107274677013203"
      ]
     },
     "execution_count": 13,
     "metadata": {},
     "output_type": "execute_result"
    }
   ],
   "source": [
    "lr_poly = LinearRegression()\n",
    "lr_poly.fit(X_train_poly,y_train)\n",
    "np.mean(cross_val_score(lr_poly,X_train_poly,y_train,cv=5))"
   ]
  },
  {
   "cell_type": "code",
   "execution_count": 14,
   "id": "3400b372",
   "metadata": {},
   "outputs": [
    {
     "data": {
      "text/plain": [
       "0.41073312678232254"
      ]
     },
     "execution_count": 14,
     "metadata": {},
     "output_type": "execute_result"
    }
   ],
   "source": [
    "ridge_poly = RidgeCV()\n",
    "ridge_poly.fit(X_train_poly,y_train)\n",
    "np.mean(cross_val_score(ridge_poly,X_train_poly,y_train,cv=5))"
   ]
  },
  {
   "cell_type": "code",
   "execution_count": 15,
   "id": "940a75c9",
   "metadata": {},
   "outputs": [
    {
     "data": {
      "text/plain": [
       "0.4109295728535213"
      ]
     },
     "execution_count": 15,
     "metadata": {},
     "output_type": "execute_result"
    }
   ],
   "source": [
    "lasso_poly = LassoCV()\n",
    "lasso_poly.fit(X_train_poly,y_train)\n",
    "np.mean(cross_val_score(lasso_poly,X_train_poly,y_train,cv=5))"
   ]
  },
  {
   "cell_type": "code",
   "execution_count": 16,
   "id": "f3433b45",
   "metadata": {},
   "outputs": [
    {
     "data": {
      "text/plain": [
       "[('1', 0.0),\n",
       " ('x0', -5.670291859587909),\n",
       " ('x1', 0.8514001950825659),\n",
       " ('x2', -4.663361197749791),\n",
       " ('x3', -0.0001016361128905256),\n",
       " ('x4', 4.204654326403441),\n",
       " ('x5', -0.16966202070177927),\n",
       " ('x6', -2.4368988451946954),\n",
       " ('x7', 1.1798509088218965),\n",
       " ('x8', -2.5364677876888395),\n",
       " ('x9', -0.0664327278799012),\n",
       " ('x10', -2.1032442932985576),\n",
       " ('x11', 1.0639887886425727),\n",
       " ('x12', -1.411562759928328),\n",
       " ('x13', -3.3037437049229257),\n",
       " ('x14', -8.399247705651426),\n",
       " ('x15', 0.0),\n",
       " ('x16', 1.4565403221187572),\n",
       " ('x0^2', 2.547523011871472),\n",
       " ('x0 x1', 2.529095139478609),\n",
       " ('x0 x2', 0.7521506606529382),\n",
       " ('x0 x3', 0.05790001823871636),\n",
       " ('x0 x4', 0.39509755787052775),\n",
       " ('x0 x5', -0.47531423008720897),\n",
       " ('x0 x6', 0.6725729573204937),\n",
       " ('x0 x7', -0.6034484205755823),\n",
       " ('x0 x8', 1.293700599712286),\n",
       " ('x0 x9', -0.27985960258450376),\n",
       " ('x0 x10', -1.2084307184631669),\n",
       " ('x0 x11', -0.04163374444564745),\n",
       " ('x0 x12', -0.6212854941280203),\n",
       " ('x0 x13', 0.35152812414198437),\n",
       " ('x0 x14', 0.5431681626416648),\n",
       " ('x0 x15', 0.06177016439152356),\n",
       " ('x0 x16', 0.5868532740811341),\n",
       " ('x1^2', -0.04451670143266866),\n",
       " ('x1 x2', -0.5356980439802826),\n",
       " ('x1 x3', -0.0),\n",
       " ('x1 x4', 0.19763090584030754),\n",
       " ('x1 x5', -0.0010978892442981998),\n",
       " ('x1 x6', -0.12194711029224584),\n",
       " ('x1 x7', 0.43570690231453285),\n",
       " ('x1 x8', -0.3763861637329419),\n",
       " ('x1 x9', 0.17185504324565334),\n",
       " ('x1 x10', 0.440659485877797),\n",
       " ('x1 x11', 0.5903619160022487),\n",
       " ('x1 x12', -0.3661188808309891),\n",
       " ('x1 x13', 0.24357791976582172),\n",
       " ('x1 x14', -0.6814632803861461),\n",
       " ('x1 x15', -0.01641102561009704),\n",
       " ('x1 x16', 0.49773032995945915),\n",
       " ('x2^2', -1.6713242531808057),\n",
       " ('x2 x3', -0.07692490724898819),\n",
       " ('x2 x4', 2.025636353642885),\n",
       " ('x2 x5', 0.26715891907018297),\n",
       " ('x2 x6', -0.8624645184540866),\n",
       " ('x2 x7', 0.17278727326242246),\n",
       " ('x2 x8', 0.38719324684683354),\n",
       " ('x2 x9', -0.3139051984116819),\n",
       " ('x2 x10', 0.6315566065118904),\n",
       " ('x2 x11', -0.26664901840565075),\n",
       " ('x2 x12', -0.2730212347482028),\n",
       " ('x2 x13', -0.14240203211076755),\n",
       " ('x2 x14', 0.45197361754699766),\n",
       " ('x2 x15', 0.09816641921008874),\n",
       " ('x2 x16', -1.6051895871140547),\n",
       " ('x3^2', 0.036073384367100655),\n",
       " ('x3 x4', 0.20099746319347095),\n",
       " ('x3 x5', 0.2965929956284938),\n",
       " ('x3 x6', 0.0),\n",
       " ('x3 x7', 0.06516941074691879),\n",
       " ('x3 x8', 0.00896377131912094),\n",
       " ('x3 x9', -0.0),\n",
       " ('x3 x10', 0.039271546867570166),\n",
       " ('x3 x11', 0.05498601581341063),\n",
       " ('x3 x12', 0.09027448041649859),\n",
       " ('x3 x13', 0.0),\n",
       " ('x3 x14', -0.05401724629584807),\n",
       " ('x3 x15', -0.04146591861094126),\n",
       " ('x3 x16', 0.0),\n",
       " ('x4^2', -0.8829033486393364),\n",
       " ('x4 x5', -0.20350543700562632),\n",
       " ('x4 x6', 0.2927459382355334),\n",
       " ('x4 x7', -0.45720297601257054),\n",
       " ('x4 x8', -0.5851461442807063),\n",
       " ('x4 x9', 0.3733105760464871),\n",
       " ('x4 x10', 0.14694643081766712),\n",
       " ('x4 x11', 0.23257268207879403),\n",
       " ('x4 x12', 0.6382838025979366),\n",
       " ('x4 x13', -0.01260703170028495),\n",
       " ('x4 x14', -0.5418430715663812),\n",
       " ('x4 x15', -0.21669175102722715),\n",
       " ('x4 x16', 0.6138663114928322),\n",
       " ('x5^2', 0.0),\n",
       " ('x5 x6', -0.07323013244206045),\n",
       " ('x5 x7', -0.0),\n",
       " ('x5 x8', 0.11298747755638193),\n",
       " ('x5 x9', 0.12968533042196478),\n",
       " ('x5 x10', -0.013779965883275937),\n",
       " ('x5 x11', -0.11654155855551254),\n",
       " ('x5 x12', 0.18712042869587953),\n",
       " ('x5 x13', -0.20164511495417087),\n",
       " ('x5 x14', 0.09392729356000044),\n",
       " ('x5 x15', -0.07266761345758),\n",
       " ('x5 x16', 0.03248557210918821),\n",
       " ('x6^2', 0.14638794439386782),\n",
       " ('x6 x7', -0.4485196814896247),\n",
       " ('x6 x8', 0.0),\n",
       " ('x6 x9', 0.3258222588054538),\n",
       " ('x6 x10', -1.0070575499437542),\n",
       " ('x6 x11', 0.48340619731795226),\n",
       " ('x6 x12', 0.26976133520652895),\n",
       " ('x6 x13', 0.43870902907170267),\n",
       " ('x6 x14', 0.7521114762606377),\n",
       " ('x6 x15', 0.17188652806084773),\n",
       " ('x6 x16', 0.8283324634058378),\n",
       " ('x7^2', -0.5798928232719205),\n",
       " ('x7 x8', 0.26715454845164294),\n",
       " ('x7 x9', -0.06294309765251385),\n",
       " ('x7 x10', -0.0),\n",
       " ('x7 x11', -0.07339814573995973),\n",
       " ('x7 x12', 0.5140662148562813),\n",
       " ('x7 x13', 0.25080514996613723),\n",
       " ('x7 x14', 0.2192494218835824),\n",
       " ('x7 x15', 0.2398976105072482),\n",
       " ('x7 x16', -0.27896739078779365),\n",
       " ('x8^2', 0.051339518858168204),\n",
       " ('x8 x9', -0.03828713561626372),\n",
       " ('x8 x10', 0.0),\n",
       " ('x8 x11', 0.0056540648575208975),\n",
       " ('x8 x12', 0.04717837998490771),\n",
       " ('x8 x13', -0.08255166042044126),\n",
       " ('x8 x14', 0.37549486007409133),\n",
       " ('x8 x15', 0.08737396332020084),\n",
       " ('x8 x16', 0.4510927781791267),\n",
       " ('x9^2', 0.11788365406434062),\n",
       " ('x9 x10', 0.23908464632515045),\n",
       " ('x9 x11', 0.1383126620099605),\n",
       " ('x9 x12', 0.18028512729203683),\n",
       " ('x9 x13', 0.06734652233372518),\n",
       " ('x9 x14', -0.05712645887415579),\n",
       " ('x9 x15', 0.038151110027173675),\n",
       " ('x9 x16', 0.0),\n",
       " ('x10^2', -0.7642603378519445),\n",
       " ('x10 x11', 0.3326375976042421),\n",
       " ('x10 x12', -0.2055415067198206),\n",
       " ('x10 x13', -0.42385510071876015),\n",
       " ('x10 x14', -0.38431084586441316),\n",
       " ('x10 x15', -0.10524957644203135),\n",
       " ('x10 x16', -0.4924518135753031),\n",
       " ('x11^2', 0.3109999503986956),\n",
       " ('x11 x12', 0.048461922612990295),\n",
       " ('x11 x13', 0.08076004076149404),\n",
       " ('x11 x14', -0.08153577739498788),\n",
       " ('x11 x15', -0.0),\n",
       " ('x11 x16', 0.0),\n",
       " ('x12^2', 0.011278738068090372),\n",
       " ('x12 x13', 0.55755901622845),\n",
       " ('x12 x14', -0.40946495762705926),\n",
       " ('x12 x15', -0.0),\n",
       " ('x12 x16', -0.69191911038433),\n",
       " ('x13^2', 0.13959157752188173),\n",
       " ('x13 x14', 0.6658198356786095),\n",
       " ('x13 x15', 0.08426932411714232),\n",
       " ('x13 x16', -0.41205825108767485),\n",
       " ('x14^2', 0.31551230287432364),\n",
       " ('x14 x15', -0.7457096209367859),\n",
       " ('x14 x16', -2.9522958838266837),\n",
       " ('x15^2', 0.5612174746715727),\n",
       " ('x15 x16', 0.5732867140510022),\n",
       " ('x16^2', -1.1553622639264098)]"
      ]
     },
     "execution_count": 16,
     "metadata": {},
     "output_type": "execute_result"
    }
   ],
   "source": [
    "list(zip(poly.get_feature_names(),lasso_poly.coef_))"
   ]
  },
  {
   "cell_type": "code",
   "execution_count": 17,
   "id": "ac45d6c8",
   "metadata": {},
   "outputs": [
    {
     "data": {
      "text/plain": [
       "18.388392698203866"
      ]
     },
     "execution_count": 17,
     "metadata": {},
     "output_type": "execute_result"
    }
   ],
   "source": [
    "mean_squared_error(y_train,lasso_poly.predict(X_train_poly),squared=False)"
   ]
  },
  {
   "cell_type": "code",
   "execution_count": 29,
   "id": "a68e677e",
   "metadata": {},
   "outputs": [],
   "source": [
    "import pickle"
   ]
  },
  {
   "cell_type": "code",
   "execution_count": 30,
   "id": "7fe92216",
   "metadata": {},
   "outputs": [],
   "source": [
    "with open('lasso_model.pickle','wb') as modelfile:\n",
    "    pickle.dump(lasso_poly,modelfile)"
   ]
  },
  {
   "cell_type": "code",
   "execution_count": 34,
   "id": "0b21e98f",
   "metadata": {},
   "outputs": [
    {
     "data": {
      "text/plain": [
       "Index(['danceability', 'energy', 'key', 'loudness', 'mode', 'speechiness',\n",
       "       'acousticness', 'instrumentalness', 'liveness', 'valence', 'tempo',\n",
       "       'duration', 'Track_Number', 'Total_Tracks', 'Month_Released',\n",
       "       'Year_Released'],\n",
       "      dtype='object')"
      ]
     },
     "execution_count": 34,
     "metadata": {},
     "output_type": "execute_result"
    }
   ],
   "source": [
    "features.columns"
   ]
  },
  {
   "cell_type": "code",
   "execution_count": 18,
   "id": "dc209267",
   "metadata": {},
   "outputs": [
    {
     "data": {
      "text/plain": [
       "(56262, 171)"
      ]
     },
     "execution_count": 18,
     "metadata": {},
     "output_type": "execute_result"
    }
   ],
   "source": [
    "X_train_poly.shape"
   ]
  },
  {
   "cell_type": "code",
   "execution_count": null,
   "id": "48c2e630",
   "metadata": {},
   "outputs": [],
   "source": []
  }
 ],
 "metadata": {
  "kernelspec": {
   "display_name": "Python 3",
   "language": "python",
   "name": "python3"
  },
  "language_info": {
   "codemirror_mode": {
    "name": "ipython",
    "version": 3
   },
   "file_extension": ".py",
   "mimetype": "text/x-python",
   "name": "python",
   "nbconvert_exporter": "python",
   "pygments_lexer": "ipython3",
   "version": "3.8.8"
  }
 },
 "nbformat": 4,
 "nbformat_minor": 5
}
