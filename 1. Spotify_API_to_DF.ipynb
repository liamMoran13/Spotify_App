{
 "cells": [
  {
   "cell_type": "code",
   "execution_count": 57,
   "id": "c646681b",
   "metadata": {},
   "outputs": [],
   "source": [
    "import spotipy\n",
    "from spotipy.oauth2 import SpotifyClientCredentials\n",
    "import pandas as pd \n",
    "import numpy as np\n",
    "from bs4 import BeautifulSoup"
   ]
  },
  {
   "cell_type": "code",
   "execution_count": 58,
   "id": "51696530",
   "metadata": {},
   "outputs": [],
   "source": [
    "client_id = 'ea8d9ddec3224b1cb317cca1c58bdc83'\n",
    "client_secret = '28483d860ff24d42a0fb9606edd1dd0a'"
   ]
  },
  {
   "cell_type": "code",
   "execution_count": 59,
   "id": "3b67ea10",
   "metadata": {},
   "outputs": [],
   "source": [
    "client_credentials_manager = SpotifyClientCredentials(client_id=clientid, client_secret=clientsecret)\n",
    "sp = spotipy.Spotify(client_credentials_manager=client_credentials_manager)"
   ]
  },
  {
   "cell_type": "code",
   "execution_count": 53,
   "id": "55d66638",
   "metadata": {},
   "outputs": [],
   "source": [
    "track_results = sp.search(q='year:2019 AND genre:pop',type='track',limit=49,offset=0)"
   ]
  },
  {
   "cell_type": "code",
   "execution_count": 60,
   "id": "2917e22c",
   "metadata": {},
   "outputs": [],
   "source": [
    "list_of_genres = ['pop','dance pop', 'rap', 'rock','hip hop','latin','pop rap','trap latino','trap','modern rock','edm']"
   ]
  },
  {
   "cell_type": "code",
   "execution_count": 46,
   "id": "3768e463",
   "metadata": {},
   "outputs": [
    {
     "name": "stdout",
     "output_type": "stream",
     "text": [
      "https://open.spotify.com/track/2vWBUC9djv6BtiGlmKiQaH\n",
      "https://open.spotify.com/track/60ynsPSSKe6O3sfwRnIBRf\n",
      "https://open.spotify.com/track/6EtKlIQmGPB9SX8UjDJG5s\n",
      "https://open.spotify.com/track/10hMM5nsZQf66ldBlgWBfG\n",
      "https://open.spotify.com/track/6UelLqGlWMcVH1E5c4H7lY\n",
      "https://open.spotify.com/track/7qEHsqek33rTcFNT9PFqLf\n",
      "https://open.spotify.com/track/57RA3JGafJm5zRtKJiKPIm\n",
      "https://open.spotify.com/track/7B3z0ySL9Rr0XvZEAjWZzM\n",
      "https://open.spotify.com/track/1ZMiCix7XSAbfAJlEZWMCp\n",
      "https://open.spotify.com/track/6N22FZs2ZhPBYi3b9XPajV\n",
      "https://open.spotify.com/track/5WtfUKzXircvW8l5aaVZWT\n",
      "https://open.spotify.com/track/64lsIF5pw0sJY0gV5kz0RN\n",
      "https://open.spotify.com/track/3zksbXteOCeSusJ5Xltr3t\n",
      "https://open.spotify.com/track/6ocbgoVGwYJhOv1GgI9NsF\n",
      "https://open.spotify.com/track/6XHVuErjQ4XNm6nDPVCxVX\n",
      "https://open.spotify.com/track/2gMXnyrvIjhVBUZwvLZDMP\n",
      "https://open.spotify.com/track/3jjujdWJ72nww5eGnfs2E7\n",
      "https://open.spotify.com/track/2Fxmhks0bxGSBdJ92vM42m\n",
      "https://open.spotify.com/track/1dGr1c8CrMLDpV6mPbImSI\n",
      "https://open.spotify.com/track/45S5WTQEGOB1VHr1Q4FuPl\n",
      "https://open.spotify.com/track/3Dv1eDb0MEgF93GpLXlucZ\n",
      "https://open.spotify.com/track/4EWBhKf1fOFnyMtUzACXEc\n",
      "https://open.spotify.com/track/3QzAOrNlsabgbMwlZt7TAY\n",
      "https://open.spotify.com/track/6potEImiklXkwD9qFzpu15\n",
      "https://open.spotify.com/track/6S7o12almFeL57rbRvdY5l\n",
      "https://open.spotify.com/track/51Grh1RyUDcMBbpuyUIUHI\n",
      "https://open.spotify.com/track/3e9HZxeyfWwjeyPAMmWSSQ\n",
      "https://open.spotify.com/track/1ZdhOMWyFR8Iv9eylMGYg2\n",
      "https://open.spotify.com/track/43zdsphuZLzwA9k4DJhU0I\n",
      "https://open.spotify.com/track/696DnlkuDOXcMAnKlTgXXK\n",
      "https://open.spotify.com/track/0TZejo18HlJ86OrWNsXKnw\n",
      "https://open.spotify.com/track/1aXV8GrmQLvgoFtBPERP7E\n",
      "https://open.spotify.com/track/45ROR8UMn60YEVQnDy0uVF\n",
      "https://open.spotify.com/track/0mr8FAnN9X70p5KRUwMIJx\n",
      "https://open.spotify.com/track/0zePbRMJ9sd7wsZRlbPQua\n",
      "https://open.spotify.com/track/3HWzoMvoF3TQfYg4UPszDq\n",
      "https://open.spotify.com/track/6CcJMwBtXByIz4zQLzFkKc\n",
      "https://open.spotify.com/track/1Cv1YLb4q0RzL6pybtaMLo\n",
      "https://open.spotify.com/track/22vgEDb5hykfaTwLuskFGD\n",
      "https://open.spotify.com/track/3ZCTVFBt2Brf31RLEnCkWJ\n",
      "https://open.spotify.com/track/3H3r2nKWa3Yk5gt8xgmsEt\n",
      "https://open.spotify.com/track/6oEVnWKgPqIEPc53OYDNqG\n",
      "https://open.spotify.com/track/1uNePI826aqh9uC9pgbeHU\n",
      "https://open.spotify.com/track/4y5bvROuBDPr5fuwXbIBZR\n",
      "https://open.spotify.com/track/2t16D9V5FmmRAJjsSpwvZf\n",
      "https://open.spotify.com/track/1TMWcbxL5YF8rKsFHv5hAP\n",
      "https://open.spotify.com/track/4Of7rzpRpV1mWRbhp5rAqG\n",
      "https://open.spotify.com/track/1M4Ud66z18wuIq3oOxqVHa\n",
      "https://open.spotify.com/track/2gTdDMpNxIRFSiu7HutMCg\n"
     ]
    }
   ],
   "source": [
    "for i in track_results['tracks']['items']:\n",
    "    print(i['external_urls']['spotify'])"
   ]
  },
  {
   "cell_type": "code",
   "execution_count": 61,
   "id": "4866292a",
   "metadata": {},
   "outputs": [],
   "source": [
    "def df_creater(search_query,off_set):\n",
    "    artist_name = []\n",
    "    track_name = []\n",
    "    popularity = []\n",
    "    track_number = []\n",
    "    album_name = []\n",
    "    total_tracks = []\n",
    "    release_date = []\n",
    "    list_of_tracks = sp.search(q=search_query, type='track',limit=49,offset=off_set)\n",
    "    for i in list_of_tracks['tracks']['items']:\n",
    "        artist_name.append(i['artists'][0]['name'])\n",
    "        track_name.append(i['name'])\n",
    "        popularity.append(i['popularity'])\n",
    "        track_number.append(i['track_number'])\n",
    "        album_name.append(i['album']['name'])\n",
    "        total_tracks.append(i['album']['total_tracks'])\n",
    "        release_date.append(i['album']['release_date'])\n",
    "    \n",
    "    list_ = list(zip(artist_name, track_name, popularity, track_number, album_name, total_tracks, release_date))\n",
    "    df = pd.DataFrame(list_, columns=['Artist', 'Track', 'Popularity', 'Track_Number','Album_Name','Total_Tracks','Release_Date'])\n",
    "    return df"
   ]
  },
  {
   "cell_type": "code",
   "execution_count": 62,
   "id": "dd5f7b37",
   "metadata": {},
   "outputs": [],
   "source": [
    "df_test = df_creater('year:2019 AND genre:pop',0)"
   ]
  },
  {
   "cell_type": "code",
   "execution_count": 63,
   "id": "6ad51f68",
   "metadata": {},
   "outputs": [],
   "source": [
    "df_test2 = df_creater('year:2019 AND genre:pop',50)"
   ]
  },
  {
   "cell_type": "code",
   "execution_count": 64,
   "id": "00e2b6c3",
   "metadata": {},
   "outputs": [],
   "source": [
    "df_test3 = df_creater('year:2019 AND genre:pop',100)"
   ]
  },
  {
   "cell_type": "code",
   "execution_count": 65,
   "id": "321290dc",
   "metadata": {},
   "outputs": [],
   "source": [
    "df_test4 = df_creater('year:2019 AND genre:pop',150)"
   ]
  },
  {
   "cell_type": "code",
   "execution_count": 66,
   "id": "0aa4bbe9",
   "metadata": {},
   "outputs": [],
   "source": [
    "df_test5 = df_creater('year:2019 AND genre:pop',200)\n",
    "df_test6 = df_creater('year:2019 AND genre:pop',250)\n",
    "df_test7 = df_creater('year:2019 AND genre:pop',300)"
   ]
  },
  {
   "cell_type": "code",
   "execution_count": 67,
   "id": "571d5b35",
   "metadata": {},
   "outputs": [],
   "source": [
    "df_test5 = df_creater('year:2019 AND genre:pop',350)\n",
    "df_test6 = df_creater('year:2019 AND genre:pop',400)\n",
    "df_test7 = df_creater('year:2019 AND genre:pop',450)"
   ]
  },
  {
   "cell_type": "code",
   "execution_count": 68,
   "id": "19fe404e",
   "metadata": {},
   "outputs": [],
   "source": [
    "df_test8 = df_creater('year:2019 AND genre:pop',500)\n",
    "df_test9 = df_creater('year:2019 AND genre:pop',550)\n",
    "df_test10 = df_creater('year:2019 AND genre:pop',600)\n",
    "df_test11 = df_creater('year:2019 AND genre:pop',650)\n",
    "df_test12 = df_creater('year:2019 AND genre:pop',700)\n",
    "df_test13 = df_creater('year:2019 AND genre:pop',750)"
   ]
  },
  {
   "cell_type": "code",
   "execution_count": 69,
   "id": "d6342a6b",
   "metadata": {},
   "outputs": [],
   "source": [
    "df_test14 = df_creater('year:2019 AND genre:pop',800)\n",
    "df_test15 = df_creater('year:2019 AND genre:pop',850)\n",
    "df_test16 = df_creater('year:2019 AND genre:pop',900)\n",
    "df_test17 = df_creater('year:2019 AND genre:pop',950)\n",
    "df_test18 = df_creater('year:2020 AND genre:pop',0)\n",
    "df_test19 = df_creater('year:2020 AND genre:pop',50)"
   ]
  },
  {
   "cell_type": "code",
   "execution_count": 70,
   "id": "cfe7d244",
   "metadata": {},
   "outputs": [],
   "source": [
    "df_test20 = df_creater('year:2020 AND genre:pop',100)\n",
    "df_test21 = df_creater('year:2020 AND genre:pop',150)\n",
    "df_test22 = df_creater('year:2020 AND genre:pop',200)\n",
    "df_test23 = df_creater('year:2020 AND genre:pop',250)\n",
    "df_test24 = df_creater('year:2020 AND genre:pop',300)\n",
    "df_test25 = df_creater('year:2020 AND genre:pop',350)"
   ]
  },
  {
   "cell_type": "code",
   "execution_count": 73,
   "id": "0578b695",
   "metadata": {},
   "outputs": [],
   "source": [
    "df_test26 = df_creater('year:2020 AND genre:pop',400)\n",
    "df_test27 = df_creater('year:2020 AND genre:pop',450)\n",
    "df_test28 = df_creater('year:2020 AND genre:pop',500)\n",
    "df_test29 = df_creater('year:2020 AND genre:pop',550)\n",
    "df_test30 = df_creater('year:2020 AND genre:pop',600)\n",
    "df_test31 = df_creater('year:2020 AND genre:pop',650)"
   ]
  },
  {
   "cell_type": "code",
   "execution_count": 75,
   "id": "75415649",
   "metadata": {},
   "outputs": [],
   "source": [
    "df_test32 = df_creater('year:2020 AND genre:pop',700)\n",
    "df_test33 = df_creater('year:2020 AND genre:pop',750)\n",
    "df_test34 = df_creater('year:2020 AND genre:pop',800)\n",
    "df_test35 = df_creater('year:2020 AND genre:pop',850)\n",
    "df_test36 = df_creater('year:2020 AND genre:pop',900)\n",
    "df_test37 = df_creater('year:2020 AND genre:pop',950)\n",
    "df_test38 = df_creater('year:2021 AND genre:pop',0)\n",
    "df_test39 = df_creater('year:2021 AND genre:pop',50)\n",
    "df_test40 = df_creater('year:2021 AND genre:pop',100)\n",
    "df_test41 = df_creater('year:2021 AND genre:pop',150)"
   ]
  },
  {
   "cell_type": "code",
   "execution_count": 76,
   "id": "b7bf2187",
   "metadata": {},
   "outputs": [],
   "source": [
    "df_test42 = df_creater('year:2021 AND genre:pop',200)\n",
    "df_test43 = df_creater('year:2021 AND genre:pop',250)\n",
    "df_test44 = df_creater('year:2021 AND genre:pop',300)\n",
    "df_test45 = df_creater('year:2021 AND genre:pop',350)\n",
    "df_test46 = df_creater('year:2021 AND genre:pop',400)\n",
    "df_test47 = df_creater('year:2021 AND genre:pop',450)\n",
    "df_test48 = df_creater('year:2021 AND genre:pop',500)\n",
    "df_test49 = df_creater('year:2021 AND genre:pop',550)\n",
    "df_test50 = df_creater('year:2021 AND genre:pop',600)\n",
    "df_test51 = df_creater('year:2021 AND genre:pop',650)"
   ]
  },
  {
   "cell_type": "code",
   "execution_count": 78,
   "id": "b72457ef",
   "metadata": {},
   "outputs": [],
   "source": [
    "df_test52 = df_creater('year:2021 AND genre:pop',700)\n",
    "df_test53 = df_creater('year:2021 AND genre:pop',750)\n",
    "df_test54 = df_creater('year:2021 AND genre:pop',800)\n",
    "df_test55 = df_creater('year:2021 AND genre:pop',850)\n",
    "df_test56 = df_creater('year:2021 AND genre:pop',900)\n",
    "df_test57 = df_creater('year:2021 AND genre:pop',950)\n",
    "df_test58 = df_creater('year:2018 AND genre:pop',0)\n",
    "df_test59 = df_creater('year:2018 AND genre:pop',50)\n",
    "df_test60 = df_creater('year:2018 AND genre:pop',100)\n",
    "df_test61 = df_creater('year:2018 AND genre:pop',150)"
   ]
  },
  {
   "cell_type": "code",
   "execution_count": 79,
   "id": "158c2a13",
   "metadata": {},
   "outputs": [],
   "source": [
    "df_test62 = df_creater('year:2018 AND genre:pop',200)\n",
    "df_test63 = df_creater('year:2018 AND genre:pop',250)\n",
    "df_test64 = df_creater('year:2018 AND genre:pop',300)\n",
    "df_test65 = df_creater('year:2018 AND genre:pop',350)\n",
    "df_test66 = df_creater('year:2018 AND genre:pop',400)\n",
    "df_test67 = df_creater('year:2018 AND genre:pop',450)\n",
    "df_test68 = df_creater('year:2018 AND genre:pop',500)\n",
    "df_test69 = df_creater('year:2018 AND genre:pop',550)\n",
    "df_test70 = df_creater('year:2018 AND genre:pop',600)\n",
    "df_test71 = df_creater('year:2018 AND genre:pop',650)"
   ]
  },
  {
   "cell_type": "code",
   "execution_count": 80,
   "id": "ad64c395",
   "metadata": {},
   "outputs": [],
   "source": [
    "df_test72 = df_creater('year:2018 AND genre:pop',700)\n",
    "df_test73 = df_creater('year:2018 AND genre:pop',750)\n",
    "df_test74 = df_creater('year:2018 AND genre:pop',800)\n",
    "df_test75 = df_creater('year:2018 AND genre:pop',850)\n",
    "df_test76 = df_creater('year:2018 AND genre:pop',900)\n",
    "df_test77 = df_creater('year:2018 AND genre:pop',950)\n",
    "df_test78 = df_creater('year:2017 AND genre:pop',0)\n",
    "df_test79 = df_creater('year:2017 AND genre:pop',50)\n",
    "df_test80 = df_creater('year:2017 AND genre:pop',100)\n",
    "df_test81 = df_creater('year:2017 AND genre:pop',150)"
   ]
  },
  {
   "cell_type": "code",
   "execution_count": 82,
   "id": "da01a4c2",
   "metadata": {},
   "outputs": [],
   "source": [
    "df_test82 = df_creater('year:2017 AND genre:pop',200)\n",
    "df_test83 = df_creater('year:2017 AND genre:pop',250)\n",
    "df_test84 = df_creater('year:2017 AND genre:pop',300)\n",
    "df_test85 = df_creater('year:2017 AND genre:pop',350)\n",
    "df_test86 = df_creater('year:2017 AND genre:pop',400)\n",
    "df_test87 = df_creater('year:2017 AND genre:pop',450)\n",
    "df_test88 = df_creater('year:2017 AND genre:pop',500)\n",
    "df_test89 = df_creater('year:2017 AND genre:pop',550)\n",
    "df_test90 = df_creater('year:2017 AND genre:pop',600)\n",
    "df_test91 = df_creater('year:2017 AND genre:pop',650)"
   ]
  },
  {
   "cell_type": "code",
   "execution_count": 83,
   "id": "2a7905a0",
   "metadata": {},
   "outputs": [],
   "source": [
    "df_test92 = df_creater('year:2017 AND genre:pop',700)\n",
    "df_test93 = df_creater('year:2017 AND genre:pop',750)\n",
    "df_test94 = df_creater('year:2017 AND genre:pop',800)\n",
    "df_test95 = df_creater('year:2017 AND genre:pop',850)\n",
    "df_test96 = df_creater('year:2017 AND genre:pop',900)\n",
    "df_test97 = df_creater('year:2017 AND genre:pop',950)\n",
    "df_test98 = df_creater('year:2016 AND genre:pop',0)\n",
    "df_test99 = df_creater('year:2016 AND genre:pop',50)\n",
    "df_test100 = df_creater('year:2016 AND genre:pop',100)\n",
    "df_test101 = df_creater('year:2016 AND genre:pop',150)"
   ]
  },
  {
   "cell_type": "code",
   "execution_count": 84,
   "id": "df0edbf3",
   "metadata": {},
   "outputs": [],
   "source": [
    "df_MVP = pd.concat([df_test,df_test2,df_test3,df_test4,df_test5,df_test6,df_test7,df_test8,df_test9,df_test10,df_test11,df_test12,df_test13,df_test14,df_test15,df_test16,df_test17,df_test18,df_test19,df_test20,df_test21,df_test22,df_test23,df_test24,df_test25,df_test26,df_test27,df_test28,df_test29,df_test30,df_test31,df_test32,df_test33,df_test34,df_test35,df_test36,df_test37,df_test38,df_test39,df_test40,df_test41,df_test42,df_test43,df_test44,df_test45,df_test46,df_test47,df_test48,df_test49,df_test50,df_test51,df_test52,df_test53,df_test54,df_test55,df_test56,df_test57,df_test58,df_test59,df_test60,df_test61,df_test62,df_test63,df_test64,df_test65,df_test66,df_test67,df_test68,df_test69,df_test70,df_test71,df_test72,df_test73,df_test74,df_test75,df_test76,df_test77,df_test78,df_test79,df_test80,df_test81,df_test82,df_test83,df_test84,df_test85,df_test86,df_test87,df_test88,df_test89,df_test90,df_test91,df_test92,df_test93,df_test94,df_test95,df_test96,df_test97,df_test98,df_test99,df_test100,df_test101])"
   ]
  },
  {
   "cell_type": "code",
   "execution_count": 86,
   "id": "9e898770",
   "metadata": {},
   "outputs": [
    {
     "data": {
      "text/plain": [
       "(4949, 7)"
      ]
     },
     "execution_count": 86,
     "metadata": {},
     "output_type": "execute_result"
    }
   ],
   "source": [
    "df_MVP.shape"
   ]
  },
  {
   "cell_type": "code",
   "execution_count": 87,
   "id": "9eaf3bc6",
   "metadata": {},
   "outputs": [],
   "source": [
    "df_MVP.to_csv('df_MVP.csv')"
   ]
  },
  {
   "cell_type": "code",
   "execution_count": null,
   "id": "d51bbd1e",
   "metadata": {},
   "outputs": [],
   "source": []
  }
 ],
 "metadata": {
  "kernelspec": {
   "display_name": "Python 3",
   "language": "python",
   "name": "python3"
  },
  "language_info": {
   "codemirror_mode": {
    "name": "ipython",
    "version": 3
   },
   "file_extension": ".py",
   "mimetype": "text/x-python",
   "name": "python",
   "nbconvert_exporter": "python",
   "pygments_lexer": "ipython3",
   "version": "3.8.8"
  }
 },
 "nbformat": 4,
 "nbformat_minor": 5
}
