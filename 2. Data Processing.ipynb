{
 "cells": [
  {
   "cell_type": "markdown",
   "metadata": {},
   "source": [
    "# Import libraries"
   ]
  },
  {
   "cell_type": "code",
   "execution_count": 1,
   "metadata": {},
   "outputs": [],
   "source": [
    "from sqlalchemy import create_engine\n",
    "import pandas as pd"
   ]
  },
  {
   "cell_type": "markdown",
   "metadata": {},
   "source": [
    "# Retrieve data from database"
   ]
  },
  {
   "cell_type": "code",
   "execution_count": 2,
   "metadata": {},
   "outputs": [],
   "source": [
    "engine = create_engine('sqlite:///spotify.db')"
   ]
  },
  {
   "cell_type": "code",
   "execution_count": 6,
   "metadata": {},
   "outputs": [],
   "source": [
    "#create DataFrame from SQL table\n",
    "df_1 = pd.read_sql('SELECT * FROM main_data;',engine)"
   ]
  },
  {
   "cell_type": "code",
   "execution_count": 8,
   "metadata": {},
   "outputs": [],
   "source": [
    "#create DataFrame from SQL table\n",
    "df_2 = pd.read_sql('SELECT * FROM audio_data;',engine)"
   ]
  },
  {
   "cell_type": "code",
   "execution_count": 36,
   "metadata": {},
   "outputs": [],
   "source": [
    "#merge DFs on index\n",
    "df_final = pd.merge(df_1, df_2, left_index=True, right_index=True)"
   ]
  },
  {
   "cell_type": "code",
   "execution_count": 13,
   "metadata": {},
   "outputs": [
    {
     "data": {
      "text/plain": [
       "Index(['Unnamed: 0_x', 'danceability', 'energy', 'key', 'loudness', 'mode',\n",
       "       'speechiness', 'acousticness', 'instrumentalness', 'liveness',\n",
       "       'valence', 'tempo', 'duration', 'Url_x', 'Unnamed: 0_y', 'Artist',\n",
       "       'Track', 'Popularity', 'Track_Number', 'Album_Name', 'Total_Tracks',\n",
       "       'Release_Date', 'Url_y'],\n",
       "      dtype='object')"
      ]
     },
     "execution_count": 13,
     "metadata": {},
     "output_type": "execute_result"
    }
   ],
   "source": [
    "df_final.columns"
   ]
  },
  {
   "cell_type": "code",
   "execution_count": 18,
   "metadata": {},
   "outputs": [
    {
     "data": {
      "text/html": [
       "<div>\n",
       "<style scoped>\n",
       "    .dataframe tbody tr th:only-of-type {\n",
       "        vertical-align: middle;\n",
       "    }\n",
       "\n",
       "    .dataframe tbody tr th {\n",
       "        vertical-align: top;\n",
       "    }\n",
       "\n",
       "    .dataframe thead th {\n",
       "        text-align: right;\n",
       "    }\n",
       "</style>\n",
       "<table border=\"1\" class=\"dataframe\">\n",
       "  <thead>\n",
       "    <tr style=\"text-align: right;\">\n",
       "      <th></th>\n",
       "      <th>danceability</th>\n",
       "      <th>energy</th>\n",
       "      <th>key</th>\n",
       "      <th>loudness</th>\n",
       "      <th>mode</th>\n",
       "      <th>speechiness</th>\n",
       "      <th>acousticness</th>\n",
       "      <th>instrumentalness</th>\n",
       "      <th>liveness</th>\n",
       "      <th>valence</th>\n",
       "      <th>...</th>\n",
       "      <th>Url_x</th>\n",
       "      <th>Unnamed: 0_y</th>\n",
       "      <th>Artist</th>\n",
       "      <th>Track</th>\n",
       "      <th>Popularity</th>\n",
       "      <th>Track_Number</th>\n",
       "      <th>Album_Name</th>\n",
       "      <th>Total_Tracks</th>\n",
       "      <th>Release_Date</th>\n",
       "      <th>Url_y</th>\n",
       "    </tr>\n",
       "  </thead>\n",
       "  <tbody>\n",
       "    <tr>\n",
       "      <th>0</th>\n",
       "      <td>0.498</td>\n",
       "      <td>0.590</td>\n",
       "      <td>1</td>\n",
       "      <td>-4.721</td>\n",
       "      <td>0</td>\n",
       "      <td>0.0320</td>\n",
       "      <td>0.5110</td>\n",
       "      <td>0.000000</td>\n",
       "      <td>0.1070</td>\n",
       "      <td>0.0784</td>\n",
       "      <td>...</td>\n",
       "      <td>https://open.spotify.com/track/161DnLWsx1i3u1J...</td>\n",
       "      <td>0</td>\n",
       "      <td>Bruno Mars</td>\n",
       "      <td>Talking to the Moon</td>\n",
       "      <td>85</td>\n",
       "      <td>7</td>\n",
       "      <td>Doo-Wops &amp; Hooligans</td>\n",
       "      <td>10</td>\n",
       "      <td>2010-10-05</td>\n",
       "      <td>https://open.spotify.com/track/161DnLWsx1i3u1J...</td>\n",
       "    </tr>\n",
       "    <tr>\n",
       "      <th>1</th>\n",
       "      <td>0.635</td>\n",
       "      <td>0.841</td>\n",
       "      <td>5</td>\n",
       "      <td>-5.379</td>\n",
       "      <td>1</td>\n",
       "      <td>0.0422</td>\n",
       "      <td>0.0134</td>\n",
       "      <td>0.000000</td>\n",
       "      <td>0.0622</td>\n",
       "      <td>0.4240</td>\n",
       "      <td>...</td>\n",
       "      <td>https://open.spotify.com/track/7BqBn9nzAq8spo5...</td>\n",
       "      <td>1</td>\n",
       "      <td>Bruno Mars</td>\n",
       "      <td>Just the Way You Are</td>\n",
       "      <td>83</td>\n",
       "      <td>2</td>\n",
       "      <td>Doo-Wops &amp; Hooligans</td>\n",
       "      <td>10</td>\n",
       "      <td>2010-10-05</td>\n",
       "      <td>https://open.spotify.com/track/7BqBn9nzAq8spo5...</td>\n",
       "    </tr>\n",
       "    <tr>\n",
       "      <th>2</th>\n",
       "      <td>0.247</td>\n",
       "      <td>0.438</td>\n",
       "      <td>5</td>\n",
       "      <td>-8.478</td>\n",
       "      <td>1</td>\n",
       "      <td>0.0358</td>\n",
       "      <td>0.0447</td>\n",
       "      <td>0.000867</td>\n",
       "      <td>0.1110</td>\n",
       "      <td>0.3900</td>\n",
       "      <td>...</td>\n",
       "      <td>https://open.spotify.com/track/0I1eFRytp4XRhLC...</td>\n",
       "      <td>2</td>\n",
       "      <td>Roar</td>\n",
       "      <td>I Can't Handle Change</td>\n",
       "      <td>84</td>\n",
       "      <td>1</td>\n",
       "      <td>I Can't Handle Change</td>\n",
       "      <td>6</td>\n",
       "      <td>2010-03-14</td>\n",
       "      <td>https://open.spotify.com/track/0I1eFRytp4XRhLC...</td>\n",
       "    </tr>\n",
       "    <tr>\n",
       "      <th>3</th>\n",
       "      <td>0.684</td>\n",
       "      <td>0.607</td>\n",
       "      <td>11</td>\n",
       "      <td>-8.127</td>\n",
       "      <td>0</td>\n",
       "      <td>0.1000</td>\n",
       "      <td>0.0267</td>\n",
       "      <td>0.000307</td>\n",
       "      <td>0.1910</td>\n",
       "      <td>0.4980</td>\n",
       "      <td>...</td>\n",
       "      <td>https://open.spotify.com/track/0JXXNGljqupsJaZ...</td>\n",
       "      <td>3</td>\n",
       "      <td>Miguel</td>\n",
       "      <td>Sure Thing</td>\n",
       "      <td>82</td>\n",
       "      <td>1</td>\n",
       "      <td>All I Want Is You</td>\n",
       "      <td>13</td>\n",
       "      <td>2010-11-26</td>\n",
       "      <td>https://open.spotify.com/track/0JXXNGljqupsJaZ...</td>\n",
       "    </tr>\n",
       "    <tr>\n",
       "      <th>4</th>\n",
       "      <td>0.455</td>\n",
       "      <td>0.623</td>\n",
       "      <td>8</td>\n",
       "      <td>-3.878</td>\n",
       "      <td>1</td>\n",
       "      <td>0.0288</td>\n",
       "      <td>0.0739</td>\n",
       "      <td>0.000424</td>\n",
       "      <td>0.1460</td>\n",
       "      <td>0.2080</td>\n",
       "      <td>...</td>\n",
       "      <td>https://open.spotify.com/track/10eBRyImhfqVvki...</td>\n",
       "      <td>4</td>\n",
       "      <td>Taylor Swift</td>\n",
       "      <td>Enchanted</td>\n",
       "      <td>78</td>\n",
       "      <td>9</td>\n",
       "      <td>Speak Now</td>\n",
       "      <td>14</td>\n",
       "      <td>2010-10-25</td>\n",
       "      <td>https://open.spotify.com/track/10eBRyImhfqVvki...</td>\n",
       "    </tr>\n",
       "  </tbody>\n",
       "</table>\n",
       "<p>5 rows × 22 columns</p>\n",
       "</div>"
      ],
      "text/plain": [
       "   danceability  energy  key  loudness  mode  speechiness  acousticness  \\\n",
       "0         0.498   0.590    1    -4.721     0       0.0320        0.5110   \n",
       "1         0.635   0.841    5    -5.379     1       0.0422        0.0134   \n",
       "2         0.247   0.438    5    -8.478     1       0.0358        0.0447   \n",
       "3         0.684   0.607   11    -8.127     0       0.1000        0.0267   \n",
       "4         0.455   0.623    8    -3.878     1       0.0288        0.0739   \n",
       "\n",
       "   instrumentalness  liveness  valence  ...  \\\n",
       "0          0.000000    0.1070   0.0784  ...   \n",
       "1          0.000000    0.0622   0.4240  ...   \n",
       "2          0.000867    0.1110   0.3900  ...   \n",
       "3          0.000307    0.1910   0.4980  ...   \n",
       "4          0.000424    0.1460   0.2080  ...   \n",
       "\n",
       "                                               Url_x  Unnamed: 0_y  \\\n",
       "0  https://open.spotify.com/track/161DnLWsx1i3u1J...             0   \n",
       "1  https://open.spotify.com/track/7BqBn9nzAq8spo5...             1   \n",
       "2  https://open.spotify.com/track/0I1eFRytp4XRhLC...             2   \n",
       "3  https://open.spotify.com/track/0JXXNGljqupsJaZ...             3   \n",
       "4  https://open.spotify.com/track/10eBRyImhfqVvki...             4   \n",
       "\n",
       "         Artist                  Track Popularity Track_Number  \\\n",
       "0    Bruno Mars    Talking to the Moon         85            7   \n",
       "1    Bruno Mars   Just the Way You Are         83            2   \n",
       "2          Roar  I Can't Handle Change         84            1   \n",
       "3        Miguel             Sure Thing         82            1   \n",
       "4  Taylor Swift              Enchanted         78            9   \n",
       "\n",
       "              Album_Name  Total_Tracks Release_Date  \\\n",
       "0   Doo-Wops & Hooligans            10   2010-10-05   \n",
       "1   Doo-Wops & Hooligans            10   2010-10-05   \n",
       "2  I Can't Handle Change             6   2010-03-14   \n",
       "3      All I Want Is You            13   2010-11-26   \n",
       "4              Speak Now            14   2010-10-25   \n",
       "\n",
       "                                               Url_y  \n",
       "0  https://open.spotify.com/track/161DnLWsx1i3u1J...  \n",
       "1  https://open.spotify.com/track/7BqBn9nzAq8spo5...  \n",
       "2  https://open.spotify.com/track/0I1eFRytp4XRhLC...  \n",
       "3  https://open.spotify.com/track/0JXXNGljqupsJaZ...  \n",
       "4  https://open.spotify.com/track/10eBRyImhfqVvki...  \n",
       "\n",
       "[5 rows x 22 columns]"
      ]
     },
     "execution_count": 18,
     "metadata": {},
     "output_type": "execute_result"
    }
   ],
   "source": [
    "df_final.head()"
   ]
  },
  {
   "cell_type": "markdown",
   "metadata": {},
   "source": [
    "# Data Cleaning"
   ]
  },
  {
   "cell_type": "code",
   "execution_count": 1,
   "metadata": {},
   "outputs": [],
   "source": [
    "#this function takes in a dataframe and removes the unneccessary columns\n",
    "def drop_unused_columns(df):\n",
    "    df.drop('Unnamed: 0_x',inplace=True,axis=1)\n",
    "    df.drop('Unnamed: 0_y',inplace=True,axis=1)\n",
    "    df.drop('Url_x',inplace=True,axis=1)\n",
    "    df.drop('Url_y',inplace=True,axis=1)\n",
    "    df.drop('Artist',inplace=True,axis=1)\n",
    "    df.drop('Track',inplace=True,axis=1)\n",
    "    df.drop('Album_Name',inplace=True,axis=1)\n",
    "    return df"
   ]
  },
  {
   "cell_type": "code",
   "execution_count": 37,
   "metadata": {},
   "outputs": [],
   "source": [
    "df_final = drop_unused_columns(df_final)"
   ]
  },
  {
   "cell_type": "code",
   "execution_count": 38,
   "metadata": {},
   "outputs": [
    {
     "data": {
      "text/plain": [
       "Index(['Unnamed: 0_x', 'danceability', 'energy', 'key', 'loudness', 'mode',\n",
       "       'speechiness', 'acousticness', 'instrumentalness', 'liveness',\n",
       "       'valence', 'tempo', 'duration', 'Popularity', 'Track_Number',\n",
       "       'Total_Tracks', 'Release_Date'],\n",
       "      dtype='object')"
      ]
     },
     "execution_count": 38,
     "metadata": {},
     "output_type": "execute_result"
    }
   ],
   "source": [
    "df_final.columns"
   ]
  },
  {
   "cell_type": "markdown",
   "metadata": {},
   "source": [
    "# Feature Engineering"
   ]
  },
  {
   "cell_type": "code",
   "execution_count": 39,
   "metadata": {},
   "outputs": [],
   "source": [
    "# this function takes in a dataframe and creates a month and year released column from it\n",
    "def change_dates(df):\n",
    "    df['Month_Released'] = pd.to_datetime(df.Release_Date).dt.month\n",
    "    df['Year_Released'] = pd.to_datetime(df.Release_Date).dt.year\n",
    "    df.drop('Release_Date',inplace=True,axis=1)\n",
    "    return df"
   ]
  },
  {
   "cell_type": "code",
   "execution_count": 40,
   "metadata": {},
   "outputs": [],
   "source": [
    "df_final = change_dates(df_final)"
   ]
  },
  {
   "cell_type": "code",
   "execution_count": 47,
   "metadata": {},
   "outputs": [
    {
     "data": {
      "text/plain": [
       "danceability        0\n",
       "energy              0\n",
       "key                 0\n",
       "loudness            0\n",
       "mode                0\n",
       "speechiness         0\n",
       "acousticness        0\n",
       "instrumentalness    0\n",
       "liveness            0\n",
       "valence             0\n",
       "tempo               0\n",
       "duration            0\n",
       "Popularity          0\n",
       "Track_Number        0\n",
       "Total_Tracks        0\n",
       "Month_Released      0\n",
       "Year_Released       0\n",
       "dtype: int64"
      ]
     },
     "execution_count": 47,
     "metadata": {},
     "output_type": "execute_result"
    }
   ],
   "source": [
    "df_final.isna().sum()"
   ]
  },
  {
   "cell_type": "markdown",
   "metadata": {},
   "source": [
    "The data is ready for model selection"
   ]
  },
  {
   "cell_type": "code",
   "execution_count": 49,
   "metadata": {},
   "outputs": [],
   "source": [
    "df_final.to_csv('cleaned_data.csv')"
   ]
  },
  {
   "cell_type": "code",
   "execution_count": null,
   "metadata": {},
   "outputs": [],
   "source": []
  }
 ],
 "metadata": {
  "kernelspec": {
   "display_name": "Python 3",
   "language": "python",
   "name": "python3"
  },
  "language_info": {
   "codemirror_mode": {
    "name": "ipython",
    "version": 3
   },
   "file_extension": ".py",
   "mimetype": "text/x-python",
   "name": "python",
   "nbconvert_exporter": "python",
   "pygments_lexer": "ipython3",
   "version": "3.7.6"
  }
 },
 "nbformat": 4,
 "nbformat_minor": 5
}
